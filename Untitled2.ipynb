{
 "cells": [
  {
   "cell_type": "markdown",
   "metadata": {},
   "source": [
    "# Коробова Дарья"
   ]
  },
  {
   "cell_type": "markdown",
   "metadata": {},
   "source": [
    "## Группа: БСТ1901"
   ]
  },
  {
   "cell_type": "markdown",
   "metadata": {},
   "source": [
    "### Задание 1"
   ]
  },
  {
   "cell_type": "code",
   "execution_count": 1,
   "metadata": {},
   "outputs": [
    {
     "name": "stdout",
     "output_type": "stream",
     "text": [
      "Yes\n",
      "No\n",
      "No\n",
      "Yes\n"
     ]
    }
   ],
   "source": [
    "def check(events):\n",
    "    stack = []\n",
    "    for e in events:\n",
    "        cmd, party = e.split()\n",
    "        if cmd == \"Add\":\n",
    "            stack.append(party)\n",
    "        elif stack.pop() != party:\n",
    "            return \"No\"\n",
    "    return \"Yes\" if len(stack) == 0 else \"No\"\n",
    "\n",
    "print(check([\"Add x\", \"Add y\", \"Vote y\", \"Vote x\"]))\n",
    "print(check([\"Add x\", \"Add x\", \"Vote y\", \"Vote x\"]))\n",
    "print(check([\"Add x\", \"Add y\"]))\n",
    "print(check([\"Add x\", \"Vote x\"]))"
   ]
  },
  {
   "cell_type": "markdown",
   "metadata": {},
   "source": [
    "### Задание 2"
   ]
  },
  {
   "cell_type": "code",
   "execution_count": 2,
   "metadata": {},
   "outputs": [
    {
     "data": {
      "text/plain": [
       "4"
      ]
     },
     "execution_count": 2,
     "metadata": {},
     "output_type": "execute_result"
    }
   ],
   "source": [
    "def subpolygon(N):\n",
    "    for i in range(3, int(N**.5)+1):\n",
    "        if N % i == 0: return i\n",
    "    if N > 4 and N % 2 == 0:\n",
    "        return N / 2\n",
    "    return N\n",
    "\n",
    "subpolygon(16)"
   ]
  },
  {
   "cell_type": "markdown",
   "metadata": {},
   "source": [
    "### Задание 3"
   ]
  },
  {
   "cell_type": "code",
   "execution_count": 3,
   "metadata": {},
   "outputs": [
    {
     "data": {
      "text/plain": [
       "(11, 10)"
      ]
     },
     "execution_count": 3,
     "metadata": {},
     "output_type": "execute_result"
    }
   ],
   "source": [
    "def captcha(s):\n",
    "    if len(s) == 1:\n",
    "        res = [0,0,0,2,0,2,0,2,3][int(s)-1]\n",
    "        if res:\n",
    "            return 10, res\n",
    "        return -1\n",
    "    S = sum(map(int, s))\n",
    "    if S == 1:\n",
    "        return 10, 2\n",
    "    return S + 1, S\n",
    "\n",
    "captcha(\"19\")"
   ]
  },
  {
   "cell_type": "code",
   "execution_count": null,
   "metadata": {},
   "outputs": [],
   "source": []
  }
 ],
 "metadata": {
  "kernelspec": {
   "display_name": "Python 3",
   "language": "python",
   "name": "python3"
  },
  "language_info": {
   "codemirror_mode": {
    "name": "ipython",
    "version": 3
   },
   "file_extension": ".py",
   "mimetype": "text/x-python",
   "name": "python",
   "nbconvert_exporter": "python",
   "pygments_lexer": "ipython3",
   "version": "3.8.5"
  }
 },
 "nbformat": 4,
 "nbformat_minor": 4
}
