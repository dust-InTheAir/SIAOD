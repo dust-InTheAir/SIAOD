{
 "cells": [
  {
   "cell_type": "markdown",
   "metadata": {},
   "source": [
    "# "
   ]
  },
  {
   "cell_type": "code",
   "execution_count": 1,
   "metadata": {},
   "outputs": [
    {
     "name": "stdout",
     "output_type": "stream",
     "text": [
      "Yes\n",
      "No\n",
      "No\n",
      "Yes\n"
     ]
    }
   ],
   "source": [
    "def check(events):\n",
    "    stack = []\n",
    "    for e in events:\n",
    "        cmd, party = e.split()\n",
    "        if cmd == \"Add\":\n",
    "            stack.append(party)\n",
    "        elif stack.pop() != party:\n",
    "            return \"No\"\n",
    "    return \"Yes\" if len(stack) == 0 else \"No\"\n",
    "\n",
    "print(check([\"Add x\", \"Add y\", \"Vote y\", \"Vote x\"]))\n",
    "print(check([\"Add x\", \"Add x\", \"Vote y\", \"Vote x\"]))\n",
    "print(check([\"Add x\", \"Add y\"]))\n",
    "print(check([\"Add x\", \"Vote x\"]))"
   ]
  },
  {
   "cell_type": "code",
   "execution_count": null,
   "metadata": {},
   "outputs": [],
   "source": []
  }
 ],
 "metadata": {
  "kernelspec": {
   "display_name": "Python 3",
   "language": "python",
   "name": "python3"
  },
  "language_info": {
   "codemirror_mode": {
    "name": "ipython",
    "version": 3
   },
   "file_extension": ".py",
   "mimetype": "text/x-python",
   "name": "python",
   "nbconvert_exporter": "python",
   "pygments_lexer": "ipython3",
   "version": "3.8.5"
  }
 },
 "nbformat": 4,
 "nbformat_minor": 4
}
